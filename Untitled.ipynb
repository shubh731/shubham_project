{
 "cells": [
  {
   "cell_type": "code",
   "execution_count": null,
   "id": "474c4b09",
   "metadata": {},
   "outputs": [],
   "source": [
    "while 1:\n",
    "    enemy_1 = input()  # name of enemy 1\n",
    "    dist_1 = int(input())  # distance to enemy 1\n",
    "    enemy_2 = input()  # name of enemy 2\n",
    "    dist_2 = int(input())  # distance to enemy 2\n",
    "\n",
    "    # Write an action using print\n",
    "\n",
    "    # Enter the code here\n",
    "\n",
    "    if dist_1 < dist_2:\n",
    "        print(enemy_1)\n",
    "    else:\n",
    "        print(enemy_2)"
   ]
  },
  {
   "cell_type": "code",
   "execution_count": 8,
   "id": "ee623353",
   "metadata": {},
   "outputs": [
    {
     "name": "stdout",
     "output_type": "stream",
     "text": [
      "enter the number:41\n",
      "number is samller\n"
     ]
    }
   ],
   "source": [
    "\n",
    "a=int(input(\"enter the number:\"))\n",
    "print(a)\n",
    "\n",
    "\n",
    "if(a>=10):\n",
    "    print(\"number is samller\")\n",
    "    \n",
    "else:\n",
    "    print(\"number is greater\")\n",
    "    "
   ]
  },
  {
   "cell_type": "code",
   "execution_count": 13,
   "id": "9f1435e8",
   "metadata": {},
   "outputs": [
    {
     "name": "stdout",
     "output_type": "stream",
     "text": [
      "enter the number:10\n",
      "10\n",
      "number is equal\n"
     ]
    }
   ],
   "source": [
    "\n",
    "a=int(input(\"enter the number:\"))\n",
    "print(a)\n",
    "\n",
    "\n",
    "if(a==10):\n",
    "    print(\"number is equal\")\n",
    "    \n",
    "else:\n",
    "    print(\"number is not equal\")\n"
   ]
  },
  {
   "cell_type": "code",
   "execution_count": 16,
   "id": "79ff1132",
   "metadata": {},
   "outputs": [
    {
     "ename": "SyntaxError",
     "evalue": "cannot assign to expression here. Maybe you meant '==' instead of '='? (Temp/ipykernel_13448/1597916885.py, line 9)",
     "output_type": "error",
     "traceback": [
      "\u001b[1;36m  File \u001b[1;32m\"C:\\Users\\Shubham\\AppData\\Local\\Temp/ipykernel_13448/1597916885.py\"\u001b[1;36m, line \u001b[1;32m9\u001b[0m\n\u001b[1;33m    if(a*b=d):\u001b[0m\n\u001b[1;37m       ^\u001b[0m\n\u001b[1;31mSyntaxError\u001b[0m\u001b[1;31m:\u001b[0m cannot assign to expression here. Maybe you meant '==' instead of '='?\n"
     ]
    }
   ],
   "source": [
    "\n",
    "# a=int(input(\"enter the number:\"))\n",
    "# print(a)\n",
    "\n",
    "a=10\n",
    "b=20\n",
    "c=50\n",
    "\n",
    "d= a*b/c\n",
    "if(a*b=d):\n",
    "    print(\"number is max\")\n",
    "    \n",
    "else:\n",
    "    print(\"numebr is not max\")"
   ]
  },
  {
   "cell_type": "code",
   "execution_count": null,
   "id": "41893038",
   "metadata": {},
   "outputs": [],
   "source": []
  },
  {
   "cell_type": "code",
   "execution_count": null,
   "id": "e1ac8993",
   "metadata": {},
   "outputs": [],
   "source": []
  }
 ],
 "metadata": {
  "kernelspec": {
   "display_name": "Python 3 (ipykernel)",
   "language": "python",
   "name": "python3"
  },
  "language_info": {
   "codemirror_mode": {
    "name": "ipython",
    "version": 3
   },
   "file_extension": ".py",
   "mimetype": "text/x-python",
   "name": "python",
   "nbconvert_exporter": "python",
   "pygments_lexer": "ipython3",
   "version": "3.10.0"
  }
 },
 "nbformat": 4,
 "nbformat_minor": 5
}
